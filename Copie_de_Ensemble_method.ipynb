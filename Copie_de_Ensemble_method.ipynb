{
  "nbformat": 4,
  "nbformat_minor": 0,
  "metadata": {
    "accelerator": "GPU",
    "colab": {
      "name": "Copie de Ensemble method.ipynb",
      "provenance": [],
      "collapsed_sections": [],
      "authorship_tag": "ABX9TyPzZAb6cZPZb+EtbXMfRLcf",
      "include_colab_link": true
    },
    "kernelspec": {
      "display_name": "Python 3",
      "name": "python3"
    },
    "language_info": {
      "name": "python"
    }
  },
  "cells": [
    {
      "cell_type": "markdown",
      "metadata": {
        "id": "view-in-github",
        "colab_type": "text"
      },
      "source": [
        "<a href=\"https://colab.research.google.com/github/Letsgetloud/Test/blob/main/Copie_de_Ensemble_method.ipynb\" target=\"_parent\"><img src=\"https://colab.research.google.com/assets/colab-badge.svg\" alt=\"Open In Colab\"/></a>"
      ]
    },
    {
      "cell_type": "markdown",
      "metadata": {
        "id": "nknCkGvGunbc"
      },
      "source": [
        "Ensemble method"
      ]
    },
    {
      "cell_type": "markdown",
      "metadata": {
        "id": "ELH7ZNnnumNF"
      },
      "source": [
        "We train a meta-learner that will best combine the predictions from the different models and ideally perform better than any single sub-model."
      ]
    },
    {
      "cell_type": "code",
      "metadata": {
        "id": "fXQUq0MMvs_f",
        "colab": {
          "base_uri": "https://localhost:8080/"
        },
        "outputId": "4d61b1a5-49bc-4a20-d630-d19f53e38cfe"
      },
      "source": [
        "import os \n",
        "import numpy as np\n",
        "import pandas as pd\n",
        "import tensorflow as tf\n",
        "from skimage import io\n",
        "from sklearn import metrics\n",
        "from sklearn.model_selection import train_test_split\n",
        "from sklearn.linear_model import LogisticRegression\n",
        "from sklearn.svm import SVC\n",
        "from sklearn.model_selection import GridSearchCV\n",
        "from sklearn.neighbors import KNeighborsClassifier\n",
        "from sklearn.tree import DecisionTreeClassifier\n",
        "from sklearn.model_selection import StratifiedKFold , cross_val_score , cross_val_predict\n",
        "from sklearn.metrics import accuracy_score, classification_report, confusion_matrix\n",
        "from numpy import dstack\n",
        "from google.colab import drive\n",
        "import matplotlib.pyplot as plt\n",
        "import seaborn as sns\n",
        "import joblib #to load and save sklearn models\n",
        "\n",
        "GDRIVE_MOUNT_POINT = '/content/drive'\n",
        "WORK_DIR = \"/content/drive/MyDrive/work/Oliv\"\n",
        "MODEL_DIR = \"/content/drive/MyDrive/work/dad/output/classifier/multiclass/10/\"\n",
        "\n",
        "if not os.path.isdir(GDRIVE_MOUNT_POINT):\n",
        "  drive.mount(GDRIVE_MOUNT_POINT)\n"
      ],
      "execution_count": 1,
      "outputs": [
        {
          "output_type": "stream",
          "name": "stdout",
          "text": [
            "Mounted at /content/drive\n"
          ]
        }
      ]
    },
    {
      "cell_type": "code",
      "metadata": {
        "id": "SWXG3bPNxqm0",
        "colab": {
          "base_uri": "https://localhost:8080/"
        },
        "outputId": "1831d9ab-bb9a-4b62-f584-470516906a43"
      },
      "source": [
        "#list all h5 models in a main directory\n",
        "def listdirectory2(path): \n",
        "    fichier=[] \n",
        "    for root, dirs, files in os.walk(path): \n",
        "        if (\"0002/train/0001\" in root):\n",
        "            for i in files:\n",
        "                full_name= os.path.join(root, i)\n",
        "                root, extension = os.path.splitext(full_name)\n",
        "                if extension==\".h5\": fichier.append(full_name) \n",
        "    return fichier\n",
        "\n",
        "listdirectory2(MODEL_DIR)\n"
      ],
      "execution_count": null,
      "outputs": [
        {
          "output_type": "execute_result",
          "data": {
            "text/plain": [
              "['/content/drive/MyDrive/work/dad/output/classifier/multiclass/10/efficientnetb0/0002/train/0001/model/best_model.h5',\n",
              " '/content/drive/MyDrive/work/dad/output/classifier/multiclass/10/efficientnetb1/0002/train/0001/model/best_model.h5',\n",
              " '/content/drive/MyDrive/work/dad/output/classifier/multiclass/10/efficientnetb2/0002/train/0001/model/best_model.h5',\n",
              " '/content/drive/MyDrive/work/dad/output/classifier/multiclass/10/efficientnetb3/0002/train/0001/model/best_model.h5',\n",
              " '/content/drive/MyDrive/work/dad/output/classifier/multiclass/10/efficientnetb4/0002/train/0001/model/best_model.h5',\n",
              " '/content/drive/MyDrive/work/dad/output/classifier/multiclass/10/efficientnetb5/0002/train/0001/model/best_model.h5',\n",
              " '/content/drive/MyDrive/work/dad/output/classifier/multiclass/10/efficientnetb6/0002/train/0001/model/best_model.h5',\n",
              " '/content/drive/MyDrive/work/dad/output/classifier/multiclass/10/efficientnetb7/0002/train/0001/model/best_model.h5',\n",
              " '/content/drive/MyDrive/work/dad/output/classifier/multiclass/10/xception/0002/train/0001/model/best_model.h5',\n",
              " '/content/drive/MyDrive/work/dad/output/classifier/multiclass/10/vgg16/0002/train/0001/model/best_model.h5',\n",
              " '/content/drive/MyDrive/work/dad/output/classifier/multiclass/10/vgg19/0002/train/0001/model/best_model.h5']"
            ]
          },
          "metadata": {},
          "execution_count": 2
        }
      ]
    },
    {
      "cell_type": "code",
      "metadata": {
        "colab": {
          "base_uri": "https://localhost:8080/"
        },
        "id": "9077EnfO6j8o",
        "outputId": "c491e352-9d0b-448a-cc37-600fb5edecff"
      },
      "source": [
        "#Prepare the image test set for model evaluation\n",
        "\n",
        "df_genus = pd.read_csv( \\\n",
        "      filepath_or_buffer = WORK_DIR + '/' + \"df_genus_2k_clean.csv\"\n",
        "   ,  sep = ','\n",
        "   ,  header = 0\n",
        ")\n",
        "\n",
        "filtre_genus=df_genus.taxon_name.value_counts().index[:10]\n",
        "print(filtre_genus)\n",
        "t= df_genus.shape\n",
        "df_genus=df_genus[df_genus[\"taxon_name\"].isin(filtre_genus)].reset_index()\n",
        "\n",
        "#Prepare train and test sets\n",
        "X= df_genus[df_genus[\"taxon_name\"].isin(filtre_genus)][[\"img_path\",\"taxon_name\"]]\n",
        "\n",
        "#split the dataset between 80% train, 20% validation and 10% test)\n",
        "X_train, X_test = train_test_split(X, test_size=0.2, random_state=1)\n",
        "X_train, X_val= train_test_split(X_train, test_size=0.125, random_state=1)\n",
        "\n",
        "X_train, X_test = train_test_split(X, test_size=0.2, stratify = X[\"taxon_name\"], random_state=88)\n",
        "X_train, X_val= train_test_split(X_train, test_size=0.125,stratify = X_train[\"taxon_name\"], random_state=43)\n",
        "\n",
        "\n",
        "print(\"shape : \", t)\n",
        "print(\"shape X genus: \", X.shape)\n",
        "print(\"shape train: \", X_train.shape)\n",
        "print(\"shape test:\", X_test.shape)\n",
        "print(\"shape valid: \", X_val.shape)\n",
        "\n",
        "X_train.reset_index(drop=True, inplace=True)\n",
        "\n",
        "list_genus= np.sort(np.array(X_val.taxon_name.value_counts().index))\n",
        "y_val = []\n",
        "for elem in list(X_val.taxon_name):\n",
        "    y_val.append(np.argwhere(list_genus == elem)[0][0])\n",
        "\n",
        "X_train_sclf, X_test_sclf, y_train_sclf, y_test_sclf = train_test_split(X_val, y_val, test_size=0.2, stratify = X_val[\"taxon_name\"], random_state=1)"
      ],
      "execution_count": 2,
      "outputs": [
        {
          "output_type": "stream",
          "name": "stdout",
          "text": [
            "Index(['Amanita', 'Hygrocybe', 'Armillaria', 'Lactarius', 'Agaricus',\n",
            "       'Gymnopus', 'Cortinarius', 'Russula', 'Marasmius', 'Entoloma'],\n",
            "      dtype='object')\n",
            "shape :  (27080, 39)\n",
            "shape X genus:  (18560, 2)\n",
            "shape train:  (12992, 2)\n",
            "shape test: (3712, 2)\n",
            "shape valid:  (1856, 2)\n"
          ]
        }
      ]
    },
    {
      "cell_type": "code",
      "metadata": {
        "colab": {
          "base_uri": "https://localhost:8080/",
          "height": 1000
        },
        "id": "hUTNjZEsus_I",
        "outputId": "15332312-6d10-4f4d-ef00-2a12cc730224"
      },
      "source": [
        "#STACKING MODEL CALIBRATION\n",
        "\n",
        "#load models from file\n",
        "def load_all_models():\n",
        "    all_models = {}\n",
        "    filenames = []\n",
        "    for root, dirs, files in os.walk(MODEL_DIR): \n",
        "        if (\"0002/train/0001\" in root):\n",
        "            for i in files:\n",
        "                full_name= os.path.join(root, i)\n",
        "                root, extension = os.path.splitext(full_name)\n",
        "                if extension==\".h5\": filenames.append(full_name) \n",
        "    for file in filenames:\n",
        "        if \"xception\" not in file:\n",
        "            model = tf.keras.models.load_model(file)\n",
        "            name = file.replace(MODEL_DIR, \"\")\n",
        "            name = name.replace(\"/0002/train/0001/model/best_model.h5\" , \"\")\n",
        "            # add to list of members\n",
        "            all_models[name]=model\n",
        "            print('>Loading model %s' % file)\n",
        "    return all_models\n",
        "\n",
        "\n",
        "# load all models   \n",
        "members = load_all_models()\n",
        "print('Loaded %d models' % len(members))\n",
        "\n",
        "stackX_train = None\n",
        "stackX_test = None\n",
        "results={}\n",
        "\n",
        "for name, model in members.items():\n",
        "    print(\"\\n Analyzing \", name)\n",
        "    IMG_SIZE= model.input.get_shape().as_list()[1:3]\n",
        "    if \"efficientnet\" in name:\n",
        "        preprocess_input = None\n",
        "    elif \"vgg16\" in name:\n",
        "        preprocess_input = tf.keras.applications.vgg16.preprocess_input\n",
        "    elif \"vgg19\" in name:\n",
        "        preprocess_input = tf.keras.applications.vgg19.preprocess_input\n",
        "    elif \"xception\" in name:\n",
        "        preprocess_input = tf.keras.applications.xception.preprocess_input\n",
        "    else :\n",
        "        raise NameError('No preprocess input specified') \n",
        "#else + exception \n",
        "\n",
        "    datagen= tf.keras.preprocessing.image.ImageDataGenerator(preprocessing_function=preprocess_input)\n",
        "    train_generator= datagen.flow_from_dataframe(dataframe=X_train_sclf, directory=\"\",\n",
        "                                            x_col=\"img_path\", y_col=\"taxon_name\", shuffle=False,\n",
        "                                            class_mode=\"sparse\", target_size=IMG_SIZE, batch_size=32)\n",
        "    test_generator= datagen.flow_from_dataframe(dataframe=X_test_sclf, directory=\"\",\n",
        "                                            x_col=\"img_path\", y_col=\"taxon_name\", shuffle=False,\n",
        "                                            class_mode=\"sparse\", target_size=IMG_SIZE, batch_size=32)\n",
        "    # evaluate standalone models on test dataset\n",
        "    metrics = model.evaluate(train_generator)  #renvoi plusieurs scalars selon le nb de métrique choisies : loss, accuracy,..\n",
        "    results[name] = metrics\n",
        "    print('Model Accuracy: %.3f' % metrics[1])\n",
        "\n",
        "    # make prediction\n",
        "    print(\"Making predictions for \" , name)\n",
        "    y_train_pred = model.predict(train_generator, verbose=0)\n",
        "    y_test_pred = model.predict(test_generator, verbose=0)\n",
        "    # stack predictions into [rows, members, probabilities]\n",
        "    if stackX_train is None:\n",
        "        stackX_train = y_train_pred\n",
        "    else:\n",
        "        stackX_train = dstack((stackX_train, y_train_pred))\n",
        "    if stackX_test is None:\n",
        "        stackX_test = y_test_pred\n",
        "    else:\n",
        "        stackX_test = dstack((stackX_test, y_test_pred))\n",
        "\n",
        "    del model\n",
        "\n",
        "# flatten predictions to [rows, members x probabilities]\n",
        "stackX_train = stackX_train.reshape((stackX_train.shape[0], stackX_train.shape[1]*stackX_train.shape[2]))\n",
        "stackX_test = stackX_test.reshape((stackX_test.shape[0], stackX_test.shape[1]*stackX_test.shape[2]))\n",
        "\n",
        "\n",
        "#try Logistic Regression\n",
        "model_lr = LogisticRegression()\n",
        "cv = StratifiedKFold(n_splits= 3, shuffle=True)\n",
        "scores = cross_val_score(model_lr, stackX_train, y_train_sclf, cv = cv)\n",
        "print(\"\\n > Log Reg Accuracy mean \" , '{:,.1%}'.format(np.mean(scores)), \" std dev \",'{:,.1%}'.format(np.std(scores)))\n",
        "#y_pred_lr = cross_val_predict(model_lr, stackX, val_generator.classes , cv=cv )\n",
        "#print(\"\\n\", classification_report(val_generator.classes, y_pred_lr, target_names=list_genus))\n",
        "#df_cm=pd.DataFrame(confusion_matrix(y_pred_lr,val_generator.classes))\n",
        "#plt.figure(figsize = (10,5))\n",
        "#sns.heatmap(df_cm, annot=True, fmt=\"d\")\n",
        "\n",
        "#print('\\n\\n>>>>>> Stacked Test Accuracy with LogReg model: %.3f' % acc)\n",
        "\n",
        "#Try SVM\n",
        "model_svm = SVC(probability=True)\n",
        "scores = cross_val_score(model_svm, stackX_train, y_train_sclf, cv = cv)\n",
        "print(\"\\n > SVM Accuracy mean \" , '{:,.1%}'.format(np.mean(scores)), \" std dev \",'{:,.1%}'.format(np.std(scores)))\n",
        "#y_pred_svm = cross_val_predict(model_svm, stackX, val_generator.classes , cv=cv )\n",
        "#print(\"\\n\", classification_report(val_generator.classes, y_pred_svm, target_names=list_genus))\n",
        "#df_cm=pd.DataFrame(confusion_matrix(y_pred_svm,val_generator.classes))\n",
        "#plt.figure(figsize = (10,5))\n",
        "#sns.heatmap(df_cm, annot=True, fmt=\"d\")\n",
        "\n",
        "#try decision tree\n",
        "model_dtc = DecisionTreeClassifier()\n",
        "scores = cross_val_score(model_dtc, stackX_train, y_train_sclf, cv = cv)\n",
        "print(\"\\n > Tree Accuracy mean \" , '{:,.1%}'.format(np.mean(scores)), \" std dev \",'{:,.1%}'.format(np.std(scores)))\n",
        "#y_pred_dtc = cross_val_predict(model_dtc, stackX, val_generator.classes , cv=cv )\n",
        "#print(\"\\n\", classification_report(val_generator.classes, y_pred_dtc, target_names=list_genus))\n",
        "\n",
        "#le meta-learner permet d'atteindre 87% d'accuracy dépassant tous les autres "
      ],
      "execution_count": 3,
      "outputs": [
        {
          "output_type": "stream",
          "name": "stdout",
          "text": [
            ">Loading model /content/drive/MyDrive/work/dad/output/classifier/multiclass/10/efficientnetb0/0002/train/0001/model/best_model.h5\n",
            ">Loading model /content/drive/MyDrive/work/dad/output/classifier/multiclass/10/efficientnetb1/0002/train/0001/model/best_model.h5\n",
            ">Loading model /content/drive/MyDrive/work/dad/output/classifier/multiclass/10/efficientnetb2/0002/train/0001/model/best_model.h5\n",
            ">Loading model /content/drive/MyDrive/work/dad/output/classifier/multiclass/10/efficientnetb3/0002/train/0001/model/best_model.h5\n",
            ">Loading model /content/drive/MyDrive/work/dad/output/classifier/multiclass/10/efficientnetb4/0002/train/0001/model/best_model.h5\n",
            ">Loading model /content/drive/MyDrive/work/dad/output/classifier/multiclass/10/efficientnetb5/0002/train/0001/model/best_model.h5\n",
            ">Loading model /content/drive/MyDrive/work/dad/output/classifier/multiclass/10/efficientnetb6/0002/train/0001/model/best_model.h5\n",
            ">Loading model /content/drive/MyDrive/work/dad/output/classifier/multiclass/10/efficientnetb7/0002/train/0001/model/best_model.h5\n",
            ">Loading model /content/drive/MyDrive/work/dad/output/classifier/multiclass/10/vgg16/0002/train/0001/model/best_model.h5\n",
            ">Loading model /content/drive/MyDrive/work/dad/output/classifier/multiclass/10/vgg19/0002/train/0001/model/best_model.h5\n",
            "Loaded 10 models\n",
            "\n",
            " Analyzing  efficientnetb0\n",
            "Found 1484 validated image filenames belonging to 10 classes.\n",
            "Found 372 validated image filenames belonging to 10 classes.\n",
            "47/47 [==============================] - 1005s 21s/step - loss: 0.8827 - accuracy: 0.6988 - top_2_accuracy: 0.8470 - top_5_accuracy: 0.9677\n",
            "Model Accuracy: 0.699\n",
            "Making predictions for  efficientnetb0\n",
            "\n",
            " Analyzing  efficientnetb1\n",
            "Found 1484 validated image filenames belonging to 10 classes.\n",
            "Found 372 validated image filenames belonging to 10 classes.\n",
            "47/47 [==============================] - 42s 832ms/step - loss: 0.9652 - accuracy: 0.6617 - top_2_accuracy: 0.8282 - top_5_accuracy: 0.9616\n",
            "Model Accuracy: 0.662\n",
            "Making predictions for  efficientnetb1\n",
            "\n",
            " Analyzing  efficientnetb2\n",
            "Found 1484 validated image filenames belonging to 10 classes.\n",
            "Found 372 validated image filenames belonging to 10 classes.\n",
            "47/47 [==============================] - 18s 305ms/step - loss: 0.9627 - accuracy: 0.6530 - top_2_accuracy: 0.8201 - top_5_accuracy: 0.9677\n",
            "Model Accuracy: 0.653\n",
            "Making predictions for  efficientnetb2\n",
            "\n",
            " Analyzing  efficientnetb3\n",
            "Found 1484 validated image filenames belonging to 10 classes.\n",
            "Found 372 validated image filenames belonging to 10 classes.\n",
            "47/47 [==============================] - 62s 1s/step - loss: 0.9309 - accuracy: 0.6712 - top_2_accuracy: 0.8349 - top_5_accuracy: 0.9697\n",
            "Model Accuracy: 0.671\n",
            "Making predictions for  efficientnetb3\n",
            "\n",
            " Analyzing  efficientnetb4\n",
            "Found 1484 validated image filenames belonging to 10 classes.\n",
            "Found 372 validated image filenames belonging to 10 classes.\n",
            "47/47 [==============================] - 80s 2s/step - loss: 0.7628 - accuracy: 0.7311 - top_2_accuracy: 0.8861 - top_5_accuracy: 0.9838\n",
            "Model Accuracy: 0.731\n",
            "Making predictions for  efficientnetb4\n",
            "\n",
            " Analyzing  efficientnetb5\n",
            "Found 1484 validated image filenames belonging to 10 classes.\n",
            "Found 372 validated image filenames belonging to 10 classes.\n",
            "47/47 [==============================] - 109s 2s/step - loss: 0.6608 - accuracy: 0.7736 - top_2_accuracy: 0.9090 - top_5_accuracy: 0.9818\n",
            "Model Accuracy: 0.774\n",
            "Making predictions for  efficientnetb5\n",
            "\n",
            " Analyzing  efficientnetb6\n",
            "Found 1484 validated image filenames belonging to 10 classes.\n",
            "Found 372 validated image filenames belonging to 10 classes.\n",
            "47/47 [==============================] - 42s 750ms/step - loss: 1.1488 - accuracy: 0.6018 - top_2_accuracy: 0.7682 - top_5_accuracy: 0.9434\n",
            "Model Accuracy: 0.602\n",
            "Making predictions for  efficientnetb6\n",
            "\n",
            " Analyzing  efficientnetb7\n",
            "Found 1484 validated image filenames belonging to 10 classes.\n",
            "Found 372 validated image filenames belonging to 10 classes.\n"
          ]
        },
        {
          "output_type": "error",
          "ename": "ResourceExhaustedError",
          "evalue": "ignored",
          "traceback": [
            "\u001b[0;31m---------------------------------------------------------------------------\u001b[0m",
            "\u001b[0;31mResourceExhaustedError\u001b[0m                    Traceback (most recent call last)",
            "\u001b[0;32m<ipython-input-3-cc88538c5c8c>\u001b[0m in \u001b[0;36m<module>\u001b[0;34m()\u001b[0m\n\u001b[1;32m     53\u001b[0m                                             class_mode=\"sparse\", target_size=IMG_SIZE, batch_size=32)\n\u001b[1;32m     54\u001b[0m     \u001b[0;31m# evaluate standalone models on test dataset\u001b[0m\u001b[0;34m\u001b[0m\u001b[0;34m\u001b[0m\u001b[0;34m\u001b[0m\u001b[0m\n\u001b[0;32m---> 55\u001b[0;31m     \u001b[0mmetrics\u001b[0m \u001b[0;34m=\u001b[0m \u001b[0mmodel\u001b[0m\u001b[0;34m.\u001b[0m\u001b[0mevaluate\u001b[0m\u001b[0;34m(\u001b[0m\u001b[0mtrain_generator\u001b[0m\u001b[0;34m)\u001b[0m  \u001b[0;31m#renvoi plusieurs scalars selon le nb de métrique choisies : loss, accuracy,..\u001b[0m\u001b[0;34m\u001b[0m\u001b[0;34m\u001b[0m\u001b[0m\n\u001b[0m\u001b[1;32m     56\u001b[0m     \u001b[0mresults\u001b[0m\u001b[0;34m[\u001b[0m\u001b[0mname\u001b[0m\u001b[0;34m]\u001b[0m \u001b[0;34m=\u001b[0m \u001b[0mmetrics\u001b[0m\u001b[0;34m\u001b[0m\u001b[0;34m\u001b[0m\u001b[0m\n\u001b[1;32m     57\u001b[0m     \u001b[0mprint\u001b[0m\u001b[0;34m(\u001b[0m\u001b[0;34m'Model Accuracy: %.3f'\u001b[0m \u001b[0;34m%\u001b[0m \u001b[0mmetrics\u001b[0m\u001b[0;34m[\u001b[0m\u001b[0;36m1\u001b[0m\u001b[0;34m]\u001b[0m\u001b[0;34m)\u001b[0m\u001b[0;34m\u001b[0m\u001b[0;34m\u001b[0m\u001b[0m\n",
            "\u001b[0;32m/usr/local/lib/python3.7/dist-packages/keras/engine/training.py\u001b[0m in \u001b[0;36mevaluate\u001b[0;34m(self, x, y, batch_size, verbose, sample_weight, steps, callbacks, max_queue_size, workers, use_multiprocessing, return_dict, **kwargs)\u001b[0m\n\u001b[1;32m   1499\u001b[0m             \u001b[0;32mwith\u001b[0m \u001b[0mtf\u001b[0m\u001b[0;34m.\u001b[0m\u001b[0mprofiler\u001b[0m\u001b[0;34m.\u001b[0m\u001b[0mexperimental\u001b[0m\u001b[0;34m.\u001b[0m\u001b[0mTrace\u001b[0m\u001b[0;34m(\u001b[0m\u001b[0;34m'test'\u001b[0m\u001b[0;34m,\u001b[0m \u001b[0mstep_num\u001b[0m\u001b[0;34m=\u001b[0m\u001b[0mstep\u001b[0m\u001b[0;34m,\u001b[0m \u001b[0m_r\u001b[0m\u001b[0;34m=\u001b[0m\u001b[0;36m1\u001b[0m\u001b[0;34m)\u001b[0m\u001b[0;34m:\u001b[0m\u001b[0;34m\u001b[0m\u001b[0;34m\u001b[0m\u001b[0m\n\u001b[1;32m   1500\u001b[0m               \u001b[0mcallbacks\u001b[0m\u001b[0;34m.\u001b[0m\u001b[0mon_test_batch_begin\u001b[0m\u001b[0;34m(\u001b[0m\u001b[0mstep\u001b[0m\u001b[0;34m)\u001b[0m\u001b[0;34m\u001b[0m\u001b[0;34m\u001b[0m\u001b[0m\n\u001b[0;32m-> 1501\u001b[0;31m               \u001b[0mtmp_logs\u001b[0m \u001b[0;34m=\u001b[0m \u001b[0mself\u001b[0m\u001b[0;34m.\u001b[0m\u001b[0mtest_function\u001b[0m\u001b[0;34m(\u001b[0m\u001b[0miterator\u001b[0m\u001b[0;34m)\u001b[0m\u001b[0;34m\u001b[0m\u001b[0;34m\u001b[0m\u001b[0m\n\u001b[0m\u001b[1;32m   1502\u001b[0m               \u001b[0;32mif\u001b[0m \u001b[0mdata_handler\u001b[0m\u001b[0;34m.\u001b[0m\u001b[0mshould_sync\u001b[0m\u001b[0;34m:\u001b[0m\u001b[0;34m\u001b[0m\u001b[0;34m\u001b[0m\u001b[0m\n\u001b[1;32m   1503\u001b[0m                 \u001b[0mcontext\u001b[0m\u001b[0;34m.\u001b[0m\u001b[0masync_wait\u001b[0m\u001b[0;34m(\u001b[0m\u001b[0;34m)\u001b[0m\u001b[0;34m\u001b[0m\u001b[0;34m\u001b[0m\u001b[0m\n",
            "\u001b[0;32m/usr/local/lib/python3.7/dist-packages/tensorflow/python/eager/def_function.py\u001b[0m in \u001b[0;36m__call__\u001b[0;34m(self, *args, **kwds)\u001b[0m\n\u001b[1;32m    883\u001b[0m \u001b[0;34m\u001b[0m\u001b[0m\n\u001b[1;32m    884\u001b[0m       \u001b[0;32mwith\u001b[0m \u001b[0mOptionalXlaContext\u001b[0m\u001b[0;34m(\u001b[0m\u001b[0mself\u001b[0m\u001b[0;34m.\u001b[0m\u001b[0m_jit_compile\u001b[0m\u001b[0;34m)\u001b[0m\u001b[0;34m:\u001b[0m\u001b[0;34m\u001b[0m\u001b[0;34m\u001b[0m\u001b[0m\n\u001b[0;32m--> 885\u001b[0;31m         \u001b[0mresult\u001b[0m \u001b[0;34m=\u001b[0m \u001b[0mself\u001b[0m\u001b[0;34m.\u001b[0m\u001b[0m_call\u001b[0m\u001b[0;34m(\u001b[0m\u001b[0;34m*\u001b[0m\u001b[0margs\u001b[0m\u001b[0;34m,\u001b[0m \u001b[0;34m**\u001b[0m\u001b[0mkwds\u001b[0m\u001b[0;34m)\u001b[0m\u001b[0;34m\u001b[0m\u001b[0;34m\u001b[0m\u001b[0m\n\u001b[0m\u001b[1;32m    886\u001b[0m \u001b[0;34m\u001b[0m\u001b[0m\n\u001b[1;32m    887\u001b[0m       \u001b[0mnew_tracing_count\u001b[0m \u001b[0;34m=\u001b[0m \u001b[0mself\u001b[0m\u001b[0;34m.\u001b[0m\u001b[0mexperimental_get_tracing_count\u001b[0m\u001b[0;34m(\u001b[0m\u001b[0;34m)\u001b[0m\u001b[0;34m\u001b[0m\u001b[0;34m\u001b[0m\u001b[0m\n",
            "\u001b[0;32m/usr/local/lib/python3.7/dist-packages/tensorflow/python/eager/def_function.py\u001b[0m in \u001b[0;36m_call\u001b[0;34m(self, *args, **kwds)\u001b[0m\n\u001b[1;32m    955\u001b[0m       \u001b[0;31m# If we did not create any variables the trace we have is good enough.\u001b[0m\u001b[0;34m\u001b[0m\u001b[0;34m\u001b[0m\u001b[0;34m\u001b[0m\u001b[0m\n\u001b[1;32m    956\u001b[0m       return self._concrete_stateful_fn._call_flat(\n\u001b[0;32m--> 957\u001b[0;31m           filtered_flat_args, self._concrete_stateful_fn.captured_inputs)  # pylint: disable=protected-access\n\u001b[0m\u001b[1;32m    958\u001b[0m \u001b[0;34m\u001b[0m\u001b[0m\n\u001b[1;32m    959\u001b[0m     \u001b[0;32mdef\u001b[0m \u001b[0mfn_with_cond\u001b[0m\u001b[0;34m(\u001b[0m\u001b[0minner_args\u001b[0m\u001b[0;34m,\u001b[0m \u001b[0minner_kwds\u001b[0m\u001b[0;34m,\u001b[0m \u001b[0minner_filtered_flat_args\u001b[0m\u001b[0;34m)\u001b[0m\u001b[0;34m:\u001b[0m\u001b[0;34m\u001b[0m\u001b[0;34m\u001b[0m\u001b[0m\n",
            "\u001b[0;32m/usr/local/lib/python3.7/dist-packages/tensorflow/python/eager/function.py\u001b[0m in \u001b[0;36m_call_flat\u001b[0;34m(self, args, captured_inputs, cancellation_manager)\u001b[0m\n\u001b[1;32m   1962\u001b[0m       \u001b[0;31m# No tape is watching; skip to running the function.\u001b[0m\u001b[0;34m\u001b[0m\u001b[0;34m\u001b[0m\u001b[0;34m\u001b[0m\u001b[0m\n\u001b[1;32m   1963\u001b[0m       return self._build_call_outputs(self._inference_function.call(\n\u001b[0;32m-> 1964\u001b[0;31m           ctx, args, cancellation_manager=cancellation_manager))\n\u001b[0m\u001b[1;32m   1965\u001b[0m     forward_backward = self._select_forward_and_backward_functions(\n\u001b[1;32m   1966\u001b[0m         \u001b[0margs\u001b[0m\u001b[0;34m,\u001b[0m\u001b[0;34m\u001b[0m\u001b[0;34m\u001b[0m\u001b[0m\n",
            "\u001b[0;32m/usr/local/lib/python3.7/dist-packages/tensorflow/python/eager/function.py\u001b[0m in \u001b[0;36mcall\u001b[0;34m(self, ctx, args, cancellation_manager)\u001b[0m\n\u001b[1;32m    594\u001b[0m               \u001b[0minputs\u001b[0m\u001b[0;34m=\u001b[0m\u001b[0margs\u001b[0m\u001b[0;34m,\u001b[0m\u001b[0;34m\u001b[0m\u001b[0;34m\u001b[0m\u001b[0m\n\u001b[1;32m    595\u001b[0m               \u001b[0mattrs\u001b[0m\u001b[0;34m=\u001b[0m\u001b[0mattrs\u001b[0m\u001b[0;34m,\u001b[0m\u001b[0;34m\u001b[0m\u001b[0;34m\u001b[0m\u001b[0m\n\u001b[0;32m--> 596\u001b[0;31m               ctx=ctx)\n\u001b[0m\u001b[1;32m    597\u001b[0m         \u001b[0;32melse\u001b[0m\u001b[0;34m:\u001b[0m\u001b[0;34m\u001b[0m\u001b[0;34m\u001b[0m\u001b[0m\n\u001b[1;32m    598\u001b[0m           outputs = execute.execute_with_cancellation(\n",
            "\u001b[0;32m/usr/local/lib/python3.7/dist-packages/tensorflow/python/eager/execute.py\u001b[0m in \u001b[0;36mquick_execute\u001b[0;34m(op_name, num_outputs, inputs, attrs, ctx, name)\u001b[0m\n\u001b[1;32m     58\u001b[0m     \u001b[0mctx\u001b[0m\u001b[0;34m.\u001b[0m\u001b[0mensure_initialized\u001b[0m\u001b[0;34m(\u001b[0m\u001b[0;34m)\u001b[0m\u001b[0;34m\u001b[0m\u001b[0;34m\u001b[0m\u001b[0m\n\u001b[1;32m     59\u001b[0m     tensors = pywrap_tfe.TFE_Py_Execute(ctx._handle, device_name, op_name,\n\u001b[0;32m---> 60\u001b[0;31m                                         inputs, attrs, num_outputs)\n\u001b[0m\u001b[1;32m     61\u001b[0m   \u001b[0;32mexcept\u001b[0m \u001b[0mcore\u001b[0m\u001b[0;34m.\u001b[0m\u001b[0m_NotOkStatusException\u001b[0m \u001b[0;32mas\u001b[0m \u001b[0me\u001b[0m\u001b[0;34m:\u001b[0m\u001b[0;34m\u001b[0m\u001b[0;34m\u001b[0m\u001b[0m\n\u001b[1;32m     62\u001b[0m     \u001b[0;32mif\u001b[0m \u001b[0mname\u001b[0m \u001b[0;32mis\u001b[0m \u001b[0;32mnot\u001b[0m \u001b[0;32mNone\u001b[0m\u001b[0;34m:\u001b[0m\u001b[0;34m\u001b[0m\u001b[0;34m\u001b[0m\u001b[0m\n",
            "\u001b[0;31mResourceExhaustedError\u001b[0m:  OOM when allocating tensor with shape[32,192,256,256] and type float on /job:localhost/replica:0/task:0/device:GPU:0 by allocator GPU_0_bfc\n\t [[node model/block2a_expand_bn/FusedBatchNormV3 (defined at <ipython-input-3-cc88538c5c8c>:55) ]]\nHint: If you want to see a list of allocated tensors when OOM happens, add report_tensor_allocations_upon_oom to RunOptions for current allocation info. This isn't available when running in Eager mode.\n [Op:__inference_test_function_121772]\n\nFunction call stack:\ntest_function\n"
          ]
        }
      ]
    },
    {
      "cell_type": "code",
      "metadata": {
        "colab": {
          "base_uri": "https://localhost:8080/"
        },
        "id": "p3-rfjpM84uI",
        "outputId": "16aba237-0568-4db9-eebe-0a84e331be1c"
      },
      "source": [
        "#META LEARNER CALIBRATION \n",
        "\n",
        "#fitting and predicting\n",
        "\n",
        "knn_clf = KNeighborsClassifier()\n",
        "dtc_clf = DecisionTreeClassifier()\n",
        "lr_clf = LogisticRegression(max_iter=1000)\n",
        "svm_clf = SVC()\n",
        "\n",
        "knn_params = {\"n_neighbors\":[2,5,7,9]}\n",
        "dtc_params = {'criterion':['gini','entropy'],'max_depth':[4,5,6,7,8,9,10,11,12,15,20,30,40,50,70,90,120,150]}\n",
        "svm_params = {\"C\" : np.logspace(-3,3,7)}\n",
        "lr_params =  {\"C\" : np.logspace(-3,3,7)}\n",
        "\n",
        "knn_clf = GridSearchCV(knn_clf, param_grid = knn_params , cv=5)\n",
        "dtc_clf = GridSearchCV(dtc_clf, param_grid = dtc_params , cv=5)\n",
        "svm_clf = GridSearchCV(svm_clf, param_grid = svm_params , cv=5)\n",
        "lr_clf  = GridSearchCV(lr_clf, param_grid = lr_params , cv=5)\n",
        "\n",
        "knn_clf.fit(stackX_train, y_train_sclf)\n",
        "dtc_clf.fit(stackX_train, y_train_sclf)\n",
        "svm_clf.fit(stackX_train, y_train_sclf)\n",
        "lr_clf.fit(stackX_train, y_train_sclf)\n",
        "\n",
        "y_pred_test_knn = knn_clf.best_estimator_.predict(stackX_test)\n",
        "y_pred_test_dtc = dtc_clf.best_estimator_.predict(stackX_test)\n",
        "y_pred_test_svm = svm_clf.best_estimator_.predict(stackX_test)\n",
        "y_pred_test_lr = lr_clf.best_estimator_.predict(stackX_test)\n",
        "\n",
        "print(\"\\nKNN accuracy score on train : \", '{:,.1%}'.format(knn_clf.score(stackX_train, y_train_sclf)))\n",
        "print(\"KNN accuracy score on test : \", '{:,.1%}'.format(knn_clf.score(stackX_test, y_test_sclf)))\n",
        "print(\"\\nTREE accuracy score on train : \", '{:,.1%}'.format(dtc_clf.score(stackX_train, y_train_sclf)))\n",
        "print(\"TREE accuracy score on test : \", '{:,.1%}'.format(dtc_clf.score(stackX_test, y_test_sclf)))\n",
        "print(\"\\nSVM accuracy score on train : \", '{:,.1%}'.format(svm_clf.score(stackX_train, y_train_sclf)))\n",
        "print(\"SVM accuracy score on test : \", '{:,.1%}'.format(svm_clf.score(stackX_test, y_test_sclf)))\n",
        "print(\"\\nLogReg accuracy score on train : \", '{:,.1%}'.format(lr_clf.score(stackX_train, y_train_sclf)))\n",
        "print(\"LogReg accuracy score on test : \", '{:,.1%}'.format(lr_clf.score(stackX_test, y_test_sclf)))\n"
      ],
      "execution_count": null,
      "outputs": [
        {
          "output_type": "stream",
          "name": "stdout",
          "text": [
            "\n",
            "KNN accuracy score on train :  84.4%\n",
            "KNN accuracy score on test :  81.2%\n",
            "\n",
            "TREE accuracy score on train :  89.3%\n",
            "TREE accuracy score on test :  73.9%\n",
            "\n",
            "SVM accuracy score on train :  90.9%\n",
            "SVM accuracy score on test :  83.9%\n",
            "\n",
            "LogReg accuracy score on train :  85.3%\n",
            "LogReg accuracy score on test :  84.7%\n"
          ]
        }
      ]
    },
    {
      "cell_type": "code",
      "metadata": {
        "colab": {
          "base_uri": "https://localhost:8080/",
          "height": 643
        },
        "id": "IJ8isrlkREOw",
        "outputId": "780e644e-26a7-4b14-f79a-2d4d457426d5"
      },
      "source": [
        "print(\"\\n\", classification_report(y_test_sclf, y_pred_test_lr, target_names=list_genus))\n",
        "df_cm=pd.DataFrame(metrics.confusion_matrix(y_test_sclf, y_pred_test_lr))\n",
        "plt.figure(figsize = (10,5))\n",
        "sns.heatmap(df_cm, annot=True, fmt=\"d\")"
      ],
      "execution_count": null,
      "outputs": [
        {
          "output_type": "stream",
          "name": "stdout",
          "text": [
            "\n",
            "               precision    recall  f1-score   support\n",
            "\n",
            "    Agaricus       0.88      0.97      0.93        38\n",
            "     Amanita       0.88      0.95      0.91        39\n",
            "  Armillaria       0.79      0.79      0.79        38\n",
            " Cortinarius       0.94      0.81      0.87        37\n",
            "    Entoloma       0.88      0.86      0.87        35\n",
            "    Gymnopus       0.68      0.92      0.78        37\n",
            "   Hygrocybe       0.97      0.82      0.89        38\n",
            "   Lactarius       0.86      0.63      0.73        38\n",
            "   Marasmius       0.89      0.86      0.87        36\n",
            "     Russula       0.79      0.86      0.83        36\n",
            "\n",
            "    accuracy                           0.85       372\n",
            "   macro avg       0.86      0.85      0.85       372\n",
            "weighted avg       0.86      0.85      0.85       372\n",
            "\n"
          ]
        },
        {
          "output_type": "execute_result",
          "data": {
            "text/plain": [
              "<matplotlib.axes._subplots.AxesSubplot at 0x7fa16da3d950>"
            ]
          },
          "metadata": {},
          "execution_count": 8
        },
        {
          "output_type": "display_data",
          "data": {
            "image/png": "[encoded data removed]",
            "text/plain": [
              "<Figure size 720x360 with 2 Axes>"
            ]
          },
          "metadata": {
            "needs_background": "light"
          }
        }
      ]
    },
    {
      "cell_type": "code",
      "metadata": {
        "colab": {
          "base_uri": "https://localhost:8080/",
          "height": 359
        },
        "id": "Ndo2Pqid92KN",
        "outputId": "192e0f83-b939-48ab-f84f-cd468c41c0e3"
      },
      "source": [
        "#Show accuracy on validation set for each of the individual CNN to be combined\n",
        "\n",
        "pd.DataFrame(results, index=[\"Loss\",\"Accuracy\",\"Top2_Accuracy\", \"Top5_Accuracy\"]).T.drop(\"Loss\", axis=1)\n"
      ],
      "execution_count": null,
      "outputs": [
        {
          "output_type": "execute_result",
          "data": {
            "text/html": [
              "<div>\n",
              "<style scoped>\n",
              "    .dataframe tbody tr th:only-of-type {\n",
              "        vertical-align: middle;\n",
              "    }\n",
              "\n",
              "    .dataframe tbody tr th {\n",
              "        vertical-align: top;\n",
              "    }\n",
              "\n",
              "    .dataframe thead th {\n",
              "        text-align: right;\n",
              "    }\n",
              "</style>\n",
              "<table border=\"1\" class=\"dataframe\">\n",
              "  <thead>\n",
              "    <tr style=\"text-align: right;\">\n",
              "      <th></th>\n",
              "      <th>Accuracy</th>\n",
              "      <th>Top2_Accuracy</th>\n",
              "      <th>Top5_Accuracy</th>\n",
              "    </tr>\n",
              "  </thead>\n",
              "  <tbody>\n",
              "    <tr>\n",
              "      <th>efficientnetb0</th>\n",
              "      <td>0.780323</td>\n",
              "      <td>0.896900</td>\n",
              "      <td>0.985175</td>\n",
              "    </tr>\n",
              "    <tr>\n",
              "      <th>efficientnetb1</th>\n",
              "      <td>0.739218</td>\n",
              "      <td>0.887466</td>\n",
              "      <td>0.975741</td>\n",
              "    </tr>\n",
              "    <tr>\n",
              "      <th>efficientnetb2</th>\n",
              "      <td>0.704178</td>\n",
              "      <td>0.848383</td>\n",
              "      <td>0.977763</td>\n",
              "    </tr>\n",
              "    <tr>\n",
              "      <th>efficientnetb3</th>\n",
              "      <td>0.717655</td>\n",
              "      <td>0.870620</td>\n",
              "      <td>0.979784</td>\n",
              "    </tr>\n",
              "    <tr>\n",
              "      <th>efficientnetb4</th>\n",
              "      <td>0.778302</td>\n",
              "      <td>0.901617</td>\n",
              "      <td>0.983154</td>\n",
              "    </tr>\n",
              "    <tr>\n",
              "      <th>efficientnetb5</th>\n",
              "      <td>0.831536</td>\n",
              "      <td>0.935984</td>\n",
              "      <td>0.987871</td>\n",
              "    </tr>\n",
              "    <tr>\n",
              "      <th>efficientnetb6</th>\n",
              "      <td>0.646226</td>\n",
              "      <td>0.801213</td>\n",
              "      <td>0.962264</td>\n",
              "    </tr>\n",
              "    <tr>\n",
              "      <th>efficientnetb7</th>\n",
              "      <td>0.676550</td>\n",
              "      <td>0.850404</td>\n",
              "      <td>0.973720</td>\n",
              "    </tr>\n",
              "    <tr>\n",
              "      <th>vgg16</th>\n",
              "      <td>0.465633</td>\n",
              "      <td>0.659030</td>\n",
              "      <td>0.896900</td>\n",
              "    </tr>\n",
              "    <tr>\n",
              "      <th>vgg19</th>\n",
              "      <td>0.451482</td>\n",
              "      <td>0.629380</td>\n",
              "      <td>0.886792</td>\n",
              "    </tr>\n",
              "  </tbody>\n",
              "</table>\n",
              "</div>"
            ],
            "text/plain": [
              "                Accuracy  Top2_Accuracy  Top5_Accuracy\n",
              "efficientnetb0  0.780323       0.896900       0.985175\n",
              "efficientnetb1  0.739218       0.887466       0.975741\n",
              "efficientnetb2  0.704178       0.848383       0.977763\n",
              "efficientnetb3  0.717655       0.870620       0.979784\n",
              "efficientnetb4  0.778302       0.901617       0.983154\n",
              "efficientnetb5  0.831536       0.935984       0.987871\n",
              "efficientnetb6  0.646226       0.801213       0.962264\n",
              "efficientnetb7  0.676550       0.850404       0.973720\n",
              "vgg16           0.465633       0.659030       0.896900\n",
              "vgg19           0.451482       0.629380       0.886792"
            ]
          },
          "metadata": {
            "tags": []
          },
          "execution_count": 78
        }
      ]
    },
    {
      "cell_type": "code",
      "metadata": {
        "id": "4ogyDxjYIkS1"
      },
      "source": [
        "#Finally save meta learner\n",
        "\n",
        "filename = 'ensemble_model.sav'\n",
        "joblib.dump(lr_clf, WORK_DIR +\"/saved_model/\"+ filename)"
      ],
      "execution_count": null,
      "outputs": []
    }
  ]
}